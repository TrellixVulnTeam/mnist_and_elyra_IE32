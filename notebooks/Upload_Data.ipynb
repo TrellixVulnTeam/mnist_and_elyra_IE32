{
 "cells": [
  {
   "cell_type": "markdown",
   "metadata": {},
   "source": [
    "# Install Tensorflow and Import Libraries"
   ]
  },
  {
   "cell_type": "code",
   "execution_count": 12,
   "metadata": {},
   "outputs": [
    {
     "name": "stdout",
     "output_type": "stream",
     "text": [
      "Requirement already satisfied: tensorflow==2.3.0 in /opt/app-root/lib/python3.6/site-packages (2.3.0)\n",
      "Requirement already satisfied: tensorboard<3,>=2.3.0 in /opt/app-root/lib/python3.6/site-packages (from tensorflow==2.3.0) (2.3.0)\n",
      "Requirement already satisfied: grpcio>=1.8.6 in /opt/app-root/lib/python3.6/site-packages (from tensorflow==2.3.0) (1.32.0)\n",
      "Requirement already satisfied: protobuf>=3.9.2 in /opt/app-root/lib/python3.6/site-packages (from tensorflow==2.3.0) (3.13.0)\n",
      "Requirement already satisfied: astunparse==1.6.3 in /opt/app-root/lib/python3.6/site-packages (from tensorflow==2.3.0) (1.6.3)\n",
      "Requirement already satisfied: termcolor>=1.1.0 in /opt/app-root/lib/python3.6/site-packages (from tensorflow==2.3.0) (1.1.0)\n",
      "Requirement already satisfied: wheel>=0.26 in /opt/app-root/lib/python3.6/site-packages (from tensorflow==2.3.0) (0.35.1)\n",
      "Requirement already satisfied: keras-preprocessing<1.2,>=1.1.1 in /opt/app-root/lib/python3.6/site-packages (from tensorflow==2.3.0) (1.1.2)\n",
      "Requirement already satisfied: absl-py>=0.7.0 in /opt/app-root/lib/python3.6/site-packages (from tensorflow==2.3.0) (0.10.0)\n",
      "Requirement already satisfied: tensorflow-estimator<2.4.0,>=2.3.0 in /opt/app-root/lib/python3.6/site-packages (from tensorflow==2.3.0) (2.3.0)\n",
      "Requirement already satisfied: h5py<2.11.0,>=2.10.0 in /opt/app-root/lib/python3.6/site-packages (from tensorflow==2.3.0) (2.10.0)\n",
      "Requirement already satisfied: google-pasta>=0.1.8 in /opt/app-root/lib/python3.6/site-packages (from tensorflow==2.3.0) (0.2.0)\n",
      "Requirement already satisfied: wrapt>=1.11.1 in /opt/app-root/lib/python3.6/site-packages (from tensorflow==2.3.0) (1.12.1)\n",
      "Requirement already satisfied: six>=1.12.0 in /opt/app-root/lib/python3.6/site-packages (from tensorflow==2.3.0) (1.15.0)\n",
      "Requirement already satisfied: opt-einsum>=2.3.2 in /opt/app-root/lib/python3.6/site-packages (from tensorflow==2.3.0) (3.3.0)\n",
      "Requirement already satisfied: scipy==1.4.1 in /opt/app-root/lib/python3.6/site-packages (from tensorflow==2.3.0) (1.4.1)\n",
      "Requirement already satisfied: gast==0.3.3 in /opt/app-root/lib/python3.6/site-packages (from tensorflow==2.3.0) (0.3.3)\n",
      "Requirement already satisfied: numpy<1.19.0,>=1.16.0 in /opt/app-root/lib/python3.6/site-packages (from tensorflow==2.3.0) (1.18.5)\n",
      "Requirement already satisfied: markdown>=2.6.8 in /opt/app-root/lib/python3.6/site-packages (from tensorboard<3,>=2.3.0->tensorflow==2.3.0) (3.3.1)\n",
      "Requirement already satisfied: google-auth-oauthlib<0.5,>=0.4.1 in /opt/app-root/lib/python3.6/site-packages (from tensorboard<3,>=2.3.0->tensorflow==2.3.0) (0.4.1)\n",
      "Requirement already satisfied: werkzeug>=0.11.15 in /opt/app-root/lib/python3.6/site-packages (from tensorboard<3,>=2.3.0->tensorflow==2.3.0) (1.0.1)\n",
      "Requirement already satisfied: google-auth<2,>=1.6.3 in /opt/app-root/lib/python3.6/site-packages (from tensorboard<3,>=2.3.0->tensorflow==2.3.0) (1.22.0)\n",
      "Requirement already satisfied: tensorboard-plugin-wit>=1.6.0 in /opt/app-root/lib/python3.6/site-packages (from tensorboard<3,>=2.3.0->tensorflow==2.3.0) (1.7.0)\n",
      "Requirement already satisfied: setuptools>=41.0.0 in /opt/app-root/lib/python3.6/site-packages (from tensorboard<3,>=2.3.0->tensorflow==2.3.0) (50.3.0)\n",
      "Requirement already satisfied: requests<3,>=2.21.0 in /opt/app-root/lib/python3.6/site-packages (from tensorboard<3,>=2.3.0->tensorflow==2.3.0) (2.24.0)\n",
      "Requirement already satisfied: importlib-metadata; python_version < \"3.8\" in /opt/app-root/lib/python3.6/site-packages (from markdown>=2.6.8->tensorboard<3,>=2.3.0->tensorflow==2.3.0) (1.7.0)\n",
      "Requirement already satisfied: requests-oauthlib>=0.7.0 in /opt/app-root/lib/python3.6/site-packages (from google-auth-oauthlib<0.5,>=0.4.1->tensorboard<3,>=2.3.0->tensorflow==2.3.0) (1.3.0)\n",
      "Requirement already satisfied: pyasn1-modules>=0.2.1 in /opt/app-root/lib/python3.6/site-packages (from google-auth<2,>=1.6.3->tensorboard<3,>=2.3.0->tensorflow==2.3.0) (0.2.8)\n",
      "Requirement already satisfied: rsa<5,>=3.1.4; python_version >= \"3.5\" in /opt/app-root/lib/python3.6/site-packages (from google-auth<2,>=1.6.3->tensorboard<3,>=2.3.0->tensorflow==2.3.0) (4.6)\n",
      "Requirement already satisfied: aiohttp<4.0.0dev,>=3.6.2; python_version >= \"3.6\" in /opt/app-root/lib/python3.6/site-packages (from google-auth<2,>=1.6.3->tensorboard<3,>=2.3.0->tensorflow==2.3.0) (3.6.2)\n",
      "Requirement already satisfied: cachetools<5.0,>=2.0.0 in /opt/app-root/lib/python3.6/site-packages (from google-auth<2,>=1.6.3->tensorboard<3,>=2.3.0->tensorflow==2.3.0) (4.1.1)\n",
      "Requirement already satisfied: idna<3,>=2.5 in /opt/app-root/lib/python3.6/site-packages (from requests<3,>=2.21.0->tensorboard<3,>=2.3.0->tensorflow==2.3.0) (2.10)\n",
      "Requirement already satisfied: certifi>=2017.4.17 in /opt/app-root/lib/python3.6/site-packages (from requests<3,>=2.21.0->tensorboard<3,>=2.3.0->tensorflow==2.3.0) (2020.6.20)\n",
      "Requirement already satisfied: urllib3!=1.25.0,!=1.25.1,<1.26,>=1.21.1 in /opt/app-root/lib/python3.6/site-packages (from requests<3,>=2.21.0->tensorboard<3,>=2.3.0->tensorflow==2.3.0) (1.25.10)\n",
      "Requirement already satisfied: chardet<4,>=3.0.2 in /opt/app-root/lib/python3.6/site-packages (from requests<3,>=2.21.0->tensorboard<3,>=2.3.0->tensorflow==2.3.0) (3.0.4)\n",
      "Requirement already satisfied: zipp>=0.5 in /opt/app-root/lib/python3.6/site-packages (from importlib-metadata; python_version < \"3.8\"->markdown>=2.6.8->tensorboard<3,>=2.3.0->tensorflow==2.3.0) (3.2.0)\n",
      "Requirement already satisfied: oauthlib>=3.0.0 in /opt/app-root/lib/python3.6/site-packages (from requests-oauthlib>=0.7.0->google-auth-oauthlib<0.5,>=0.4.1->tensorboard<3,>=2.3.0->tensorflow==2.3.0) (3.1.0)\n",
      "Requirement already satisfied: pyasn1<0.5.0,>=0.4.6 in /opt/app-root/lib/python3.6/site-packages (from pyasn1-modules>=0.2.1->google-auth<2,>=1.6.3->tensorboard<3,>=2.3.0->tensorflow==2.3.0) (0.4.8)\n",
      "Requirement already satisfied: async-timeout<4.0,>=3.0 in /opt/app-root/lib/python3.6/site-packages (from aiohttp<4.0.0dev,>=3.6.2; python_version >= \"3.6\"->google-auth<2,>=1.6.3->tensorboard<3,>=2.3.0->tensorflow==2.3.0) (3.0.1)\n",
      "Requirement already satisfied: yarl<2.0,>=1.0 in /opt/app-root/lib/python3.6/site-packages (from aiohttp<4.0.0dev,>=3.6.2; python_version >= \"3.6\"->google-auth<2,>=1.6.3->tensorboard<3,>=2.3.0->tensorflow==2.3.0) (1.6.0)\n",
      "Requirement already satisfied: idna-ssl>=1.0; python_version < \"3.7\" in /opt/app-root/lib/python3.6/site-packages (from aiohttp<4.0.0dev,>=3.6.2; python_version >= \"3.6\"->google-auth<2,>=1.6.3->tensorboard<3,>=2.3.0->tensorflow==2.3.0) (1.1.0)\n",
      "Requirement already satisfied: attrs>=17.3.0 in /opt/app-root/lib/python3.6/site-packages (from aiohttp<4.0.0dev,>=3.6.2; python_version >= \"3.6\"->google-auth<2,>=1.6.3->tensorboard<3,>=2.3.0->tensorflow==2.3.0) (20.2.0)\n",
      "Requirement already satisfied: typing-extensions>=3.6.5; python_version < \"3.7\" in /opt/app-root/lib/python3.6/site-packages (from aiohttp<4.0.0dev,>=3.6.2; python_version >= \"3.6\"->google-auth<2,>=1.6.3->tensorboard<3,>=2.3.0->tensorflow==2.3.0) (3.7.4.3)\n",
      "Requirement already satisfied: multidict<5.0,>=4.5 in /opt/app-root/lib/python3.6/site-packages (from aiohttp<4.0.0dev,>=3.6.2; python_version >= \"3.6\"->google-auth<2,>=1.6.3->tensorboard<3,>=2.3.0->tensorflow==2.3.0) (4.7.6)\n",
      "Requirement already satisfied: boto3 in /opt/app-root/lib/python3.6/site-packages (1.15.16)\n",
      "Requirement already satisfied: jmespath<1.0.0,>=0.7.1 in /opt/app-root/lib/python3.6/site-packages (from boto3) (0.10.0)\n",
      "Requirement already satisfied: s3transfer<0.4.0,>=0.3.0 in /opt/app-root/lib/python3.6/site-packages (from boto3) (0.3.3)\n",
      "Requirement already satisfied: botocore<1.19.0,>=1.18.16 in /opt/app-root/lib/python3.6/site-packages (from boto3) (1.18.16)\n",
      "Requirement already satisfied: python-dateutil<3.0.0,>=2.1 in /opt/app-root/lib/python3.6/site-packages (from botocore<1.19.0,>=1.18.16->boto3) (2.8.1)\n",
      "Requirement already satisfied: urllib3<1.26,>=1.20; python_version != \"3.4\" in /opt/app-root/lib/python3.6/site-packages (from botocore<1.19.0,>=1.18.16->boto3) (1.25.10)\n",
      "Requirement already satisfied: six>=1.5 in /opt/app-root/lib/python3.6/site-packages (from python-dateutil<3.0.0,>=2.1->botocore<1.19.0,>=1.18.16->boto3) (1.15.0)\n"
     ]
    }
   ],
   "source": [
    "! pip install tensorflow==2.3.0\n",
    "! pip install boto3"
   ]
  },
  {
   "cell_type": "code",
   "execution_count": 13,
   "metadata": {},
   "outputs": [],
   "source": [
    "from __future__ import absolute_import, division, print_function\n",
    "\n",
    "import tensorflow as tf\n",
    "from tensorflow.keras import Model, layers\n",
    "import numpy as np"
   ]
  },
  {
   "cell_type": "markdown",
   "metadata": {},
   "source": [
    "# Download Data Set From Tensorflow"
   ]
  },
  {
   "cell_type": "code",
   "execution_count": 14,
   "metadata": {},
   "outputs": [],
   "source": [
    "# Prepare MNIST data.\n",
    "from tensorflow.keras.datasets import mnist\n",
    "(x_train, y_train), (x_test, y_test) = mnist.load_data()"
   ]
  },
  {
   "cell_type": "markdown",
   "metadata": {},
   "source": [
    "# Pickle Data and Upload to S3"
   ]
  },
  {
   "cell_type": "code",
   "execution_count": 15,
   "metadata": {},
   "outputs": [],
   "source": [
    "#np.savetxt(\"xtraindata.csv\", x_train, delimiter=\",\")\n",
    " # Pickle the data to upload it to csv, then unpickle it to read it\n",
    "#Move to new notebook   \n",
    "import pickle\n",
    "#Prepare MNIST data.\n",
    "from tensorflow.keras.datasets import mnist\n",
    "\n",
    "(x_train, y_train), (x_test, y_test) = mnist.load_data()\n",
    "output = open('xdata.pkl', 'wb')\n",
    "pickle.dump(x_train, output)\n",
    "output.close()\n",
    "\n",
    "output = open('ydata.pkl', 'wb')\n",
    "pickle.dump(y_train, output)\n",
    "output.close()\n",
    "\n",
    "output = open('xtestdata.pkl', 'wb')\n",
    "pickle.dump(x_test, output)\n",
    "output.close()\n",
    "\n",
    "output = open('ytestdata.pkl', 'wb')\n",
    "pickle.dump(y_test, output)\n",
    "output.close()"
   ]
  },
  {
   "cell_type": "code",
   "execution_count": 16,
   "metadata": {},
   "outputs": [
    {
     "name": "stdout",
     "output_type": "stream",
     "text": [
      "saved_data/xdata.pkl\n",
      "saved_data/ydata.pkl\n",
      "saved_data/xtestdata.pkl\n"
     ]
    }
   ],
   "source": [
    "# Upload Data To S3\n",
    "# Upload saved model to S3\n",
    "import boto3\n",
    "import os\n",
    "    \n",
    "s3_endpoint_url = os.environ['ENDPOINT_URL']\n",
    "s3_access_key = os.environ['AWS_ACCESS_KEY_ID']\n",
    "s3_secret_key = os.environ['AWS_SECRET_ACCESS_KEY']\n",
    "s3_bucket=\"nakfour\"\n",
    "\n",
    "# Create an S3 client\n",
    "s3 = boto3.client(service_name='s3',aws_access_key_id = s3_access_key,aws_secret_access_key = s3_secret_key, endpoint_url=s3_endpoint_url)\n",
    "#s3.create_bucket(Bucket=s3_bucket)\n",
    "\n",
    "\n",
    "key = 'saved_data/xdata.pkl'\n",
    "print(key)\n",
    "s3.upload_file(Bucket=s3_bucket, Key=key, Filename='xdata.pkl')\n",
    "\n",
    "key = 'saved_data/ydata.pkl'\n",
    "print(key)\n",
    "s3.upload_file(Bucket=s3_bucket, Key=key, Filename='ydata.pkl')\n",
    "\n",
    "\n",
    "key = 'saved_data/xtestdata.pkl'\n",
    "print(key)\n",
    "s3.upload_file(Bucket=s3_bucket, Key=key, Filename='xtestdata.pkl')\n",
    "\n",
    "\n",
    "key = 'saved_data/ytestdata.pkl'\n",
    "s3.upload_file(Bucket=s3_bucket, Key=key, Filename='ytestdata.pkl')\n",
    "\n"
   ]
  },
  {
   "cell_type": "code",
   "execution_count": null,
   "metadata": {},
   "outputs": [],
   "source": []
  }
 ],
 "metadata": {
  "kernelspec": {
   "display_name": "Python 3",
   "language": "python",
   "name": "python3"
  },
  "language_info": {
   "codemirror_mode": {
    "name": "ipython",
    "version": 3
   },
   "file_extension": ".py",
   "mimetype": "text/x-python",
   "name": "python",
   "nbconvert_exporter": "python",
   "pygments_lexer": "ipython3",
   "version": "3.6.8"
  }
 },
 "nbformat": 4,
 "nbformat_minor": 4
}
