{
 "cells": [
  {
   "cell_type": "markdown",
   "metadata": {},
   "source": [
    "# Run Katib Hyperparameter Tuning"
   ]
  },
  {
   "cell_type": "code",
   "execution_count": 1,
   "metadata": {},
   "outputs": [
    {
     "name": "stderr",
     "output_type": "stream",
     "text": [
      "  % Total    % Received % Xferd  Average Speed   Time    Time     Time  Current\n",
      "                                 Dload  Upload   Total   Spent    Left  Speed\n",
      "100 22.9M  100 22.9M    0     0  4363k      0  0:00:05  0:00:05 --:--:-- 4979k\n"
     ]
    }
   ],
   "source": [
    "\n",
    "%%bash\n",
    "curl -o oc.tar.gz -L https://mirror.openshift.com/pub/openshift-v4/clients/oc/4.5/linux/oc.tar.gz\n",
    "tar xzf oc.tar.gz\n",
    "cp oc ~/../bin/oc"
   ]
  },
  {
   "cell_type": "code",
   "execution_count": 2,
   "metadata": {},
   "outputs": [
    {
     "name": "stdout",
     "output_type": "stream",
     "text": [
      "Login successful.\n",
      "\n",
      "You have access to 65 projects, the list has been suppressed. You can list all projects with 'oc projects'\n",
      "\n",
      "Using project \"opendatahub\".\n",
      "experiment.kubeflow.org/tfjob-hype created\n",
      "No resources found in nakfour namespace.\n"
     ]
    }
   ],
   "source": [
    "import os\n",
    "\n",
    "username = os.environ['USERNAME']\n",
    "password = os.environ['PASSWORD']\n",
    "\n",
    "\n",
    "!oc login -u $username -p $password --insecure-skip-tls-verify https://api.cluster-e857.e857.example.opentlc.com:6443\n",
    "!oc create -f ../katib/tfjob-example.yaml -n nakfour\n",
    "!oc get tfjobs -n nakfour"
   ]
  },
  {
   "cell_type": "markdown",
   "metadata": {},
   "source": [
    "# Get tfjobs"
   ]
  },
  {
   "cell_type": "code",
   "execution_count": 4,
   "metadata": {},
   "outputs": [
    {
     "name": "stdout",
     "output_type": "stream",
     "text": [
      "NAME                  STATE     AGE\n",
      "tfjob-hype-445r5qq4   Running   42s\n",
      "tfjob-hype-cxh9f24m   Running   42s\n",
      "tfjob-hype-qc7lvb8p   Running   42s\n"
     ]
    }
   ],
   "source": [
    "!oc get tfjobs -n nakfour"
   ]
  },
  {
   "cell_type": "code",
   "execution_count": null,
   "metadata": {},
   "outputs": [],
   "source": []
  }
 ],
 "metadata": {
  "kernelspec": {
   "display_name": "Python 3",
   "language": "python",
   "name": "python3"
  },
  "language_info": {
   "codemirror_mode": {
    "name": "ipython",
    "version": 3
   },
   "file_extension": ".py",
   "mimetype": "text/x-python",
   "name": "python",
   "nbconvert_exporter": "python",
   "pygments_lexer": "ipython3",
   "version": "3.6.8"
  }
 },
 "nbformat": 4,
 "nbformat_minor": 4
}
